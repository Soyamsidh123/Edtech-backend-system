{
 "cells": [
  {
   "cell_type": "markdown",
   "id": "68d083ff-cca6-4d07-9444-1f7239855177",
   "metadata": {},
   "source": [
    "SOYAMSIDH DAS  \n",
    "EDTECH PROJECT  "
   ]
  },
  {
   "cell_type": "code",
   "execution_count": 15,
   "id": "9e59b2b8-966a-4198-8ef5-3d6e3faf58ff",
   "metadata": {},
   "outputs": [],
   "source": [
    "# Step 1: User Class\n",
    "class User:\n",
    "    def __init__(self, user_id, name, email, password):\n",
    "        self.user_id = user_id\n",
    "        self.name = name\n",
    "        self.email = email\n",
    "        self.password = password\n",
    "\n",
    "    def update_email(self, new_email):\n",
    "        self.email = new_email\n",
    "\n",
    "    def update_password(self, new_password):\n",
    "        self.password = new_password\n",
    "\n",
    "    def validate_credentials(self, email, password):\n",
    "        return self.email == email and self.password == password"
   ]
  },
  {
   "cell_type": "code",
   "execution_count": 17,
   "id": "6eda2c90-d1a6-489e-bc4b-df0b2a88dee5",
   "metadata": {},
   "outputs": [],
   "source": [
    "# Step 2: Learner Class\n",
    "class Learner(User):\n",
    "    def __init__(self, user_id, name, email, password):\n",
    "        super().__init__(user_id, name, email, password)\n",
    "        self.courses = []\n",
    "\n",
    "    def enroll_course(self, course):\n",
    "        if course not in self.courses:\n",
    "            self.courses.append(course)\n",
    "            course.add_learner(self)\n",
    "\n",
    "    def drop_course(self, course):\n",
    "        if course in self.courses:\n",
    "            self.courses.remove(course)\n",
    "            course.remove_learner(self)\n",
    "            "
   ]
  },
  {
   "cell_type": "code",
   "execution_count": 18,
   "id": "47a1e97c-6907-4ac9-b29a-ce05774ecc4c",
   "metadata": {},
   "outputs": [],
   "source": [
    "# Step 3: Instructor Class\n",
    "class Instructor(User):\n",
    "    def __init__(self, user_id, name, email, password):\n",
    "        super().__init__(user_id, name, email, password)\n",
    "        self.courses_taught = []\n",
    "\n",
    "    def add_course(self, course):\n",
    "        if course not in self.courses_taught:\n",
    "            self.courses_taught.append(course)\n",
    "\n",
    "    def remove_course(self, course):\n",
    "        if course in self.courses_taught:\n",
    "            self.courses_taught.remove(course)"
   ]
  },
  {
   "cell_type": "code",
   "execution_count": 19,
   "id": "a6e2ac68-1961-44ea-9226-618126baca02",
   "metadata": {},
   "outputs": [],
   "source": [
    "# Step 4: Course Class\n",
    "class Course:\n",
    "    def __init__(self, course_id, title, instructor):\n",
    "        self.course_id = course_id\n",
    "        self.title = title\n",
    "        self.instructor = instructor\n",
    "        self.learners = []\n",
    "\n",
    "    def add_learner(self, learner):\n",
    "        if learner not in self.learners:\n",
    "            self.learners.append(learner)\n",
    "\n",
    "    def remove_learner(self, learner):\n",
    "        if learner in self.learners:\n",
    "            self.learners.remove(learner)\n",
    "\n",
    "    def list_learners(self):\n",
    "        return [learner.name for learner in self.learners]"
   ]
  },
  {
   "cell_type": "code",
   "execution_count": 20,
   "id": "903e3d9a-ac9e-4acf-b7d4-f8bcbaa79303",
   "metadata": {},
   "outputs": [],
   "source": [
    "# Step 5: Enrollment Class\n",
    "class Enrollment:\n",
    "    def __init__(self):\n",
    "        self.enrollments = []\n",
    "\n",
    "    def enroll(self, learner, course):\n",
    "        learner.enroll_course(course)\n",
    "        self.enrollments.append((learner, course))\n",
    "\n",
    "    def drop(self, learner, course):\n",
    "        learner.drop_course(course)\n",
    "        updated_enrollments = []\n",
    "        for l, c in self.enrollments:\n",
    "            if l != learner or c != course:\n",
    "                updated_enrollments.append((l, c))\n",
    "        self.enrollments = updated_enrollments"
   ]
  },
  {
   "cell_type": "code",
   "execution_count": 21,
   "id": "6e1cccee-f077-4979-b089-f69cb3a46340",
   "metadata": {},
   "outputs": [],
   "source": [
    "# Step 6: SLTechBackend Class\n",
    "class SLTechBackend:\n",
    "    def __init__(self):\n",
    "        self.users = []\n",
    "        self.courses = []\n",
    "        self.enrollment_system = Enrollment()\n",
    "\n",
    "    def add_user(self, user):\n",
    "        self.users.append(user)\n",
    "\n",
    "    def add_course(self, course):\n",
    "        self.courses.append(course)\n",
    "\n",
    "    def enroll_learner(self, learner_id, course_id):\n",
    "        learner = next((user for user in self.users if isinstance(user, Learner) and user.user_id == learner_id), None)\n",
    "        course = next((c for c in self.courses if c.course_id == course_id), None)\n",
    "        if learner and course:\n",
    "            self.enrollment_system.enroll(learner, course)\n",
    "            print(f\"{learner.name} enrolled in {course.title}\")\n",
    "        else:\n",
    "            print(\"Enrollment failed.\")\n",
    "\n",
    "    def drop_learner(self, learner_id, course_id):\n",
    "        learner = next((user for user in self.users if isinstance(user, Learner) and user.user_id == learner_id), None)\n",
    "        course = next((c for c in self.courses if c.course_id == course_id), None)\n",
    "        if learner and course:\n",
    "            self.enrollment_system.drop(learner, course)\n",
    "            print(f\"{learner.name} dropped {course.title}\")\n",
    "        else:\n",
    "            print(\"Dropping course failed.\")\n",
    "\n",
    "    def list_enrolled_learners(self, course_id):\n",
    "        course = next((c for c in self.courses if c.course_id == course_id), None)\n",
    "        if course:\n",
    "            learners = course.list_learners()\n",
    "            return learners\n",
    "        return []\n",
    "\n",
    "    def get_user_info(self, user_id):\n",
    "        user = next((u for u in self.users if u.user_id == user_id), None)\n",
    "        if user:\n",
    "            print(f\"User ID: {user.user_id}\")\n",
    "            print(f\"Name: {user.name}\")\n",
    "            print(f\"Email: {user.email}\")\n",
    "        else:\n",
    "            print(\"User not found.\")\n",
    "\n",
    "    def manage_user_input(self):\n",
    "        while True:\n",
    "            print(\"\\n--- EdTech Backend System ---\")\n",
    "            print(\"1. Add User\")\n",
    "            print(\"2. Add Course\")\n",
    "            print(\"3. Enroll Learner\")\n",
    "            print(\"4. Drop Learner\")\n",
    "            print(\"5. List Enrolled Learners\")\n",
    "            print(\"6. Get User Information\")\n",
    "            print(\"7. Exit\")\n",
    "            choice = input(\"Enter your choice: \")\n",
    "\n",
    "            if choice == '1':\n",
    "                user_type = input(\"Enter user type (learner/instructor): \").lower()\n",
    "                user_id = input(\"Enter user ID: \")\n",
    "                name = input(\"Enter name: \")\n",
    "                email = input(\"Enter email: \")\n",
    "                password = input(\"Enter password: \")\n",
    "\n",
    "                if user_type == 'learner':\n",
    "                    self.add_user(Learner(user_id, name, email, password))\n",
    "                    print(f\"Learner {name} added.\")\n",
    "                elif user_type == 'instructor':\n",
    "                    self.add_user(Instructor(user_id, name, email, password))\n",
    "                    print(f\"Instructor {name} added.\")\n",
    "                else:\n",
    "                    print(\"Invalid user type.\")\n",
    "\n",
    "            elif choice == '2':\n",
    "                course_id = input(\"Enter course ID: \")\n",
    "                title = input(\"Enter course title: \")\n",
    "                instructor_id = input(\"Enter instructor ID: \")\n",
    "                instructor = next((user for user in self.users if isinstance(user, Instructor) and user.user_id == instructor_id), None)\n",
    "\n",
    "                if instructor:\n",
    "                    course = Course(course_id, title, instructor)\n",
    "                    self.add_course(course)\n",
    "                    instructor.add_course(course)\n",
    "                    print(f\"Course {title} added.\")\n",
    "                else:\n",
    "                    print(\"Instructor not found.\")\n",
    "\n",
    "            elif choice == '3':\n",
    "                learner_id = input(\"Enter learner ID: \")\n",
    "                course_id = input(\"Enter course ID: \")\n",
    "                self.enroll_learner(learner_id, course_id)\n",
    "\n",
    "            elif choice == '4':\n",
    "                learner_id = input(\"Enter learner ID: \")\n",
    "                course_id = input(\"Enter course ID: \")\n",
    "                self.drop_learner(learner_id, course_id)\n",
    "\n",
    "            elif choice == '5':\n",
    "                course_id = input(\"Enter course ID: \")\n",
    "                learners = self.list_enrolled_learners(course_id)\n",
    "                if learners:\n",
    "                    print(\"Enrolled Learners: \", learners)\n",
    "                else:\n",
    "                    print(\"No learners found.\")\n",
    "            \n",
    "            elif choice == '6':  \n",
    "                user_id = input(\"Enter user ID: \")\n",
    "                self.get_user_info(user_id)\n",
    "\n",
    "            elif choice == '7':\n",
    "                break\n",
    "\n",
    "            else:\n",
    "                print(\"Invalid choice. Try again.\")"
   ]
  },
  {
   "cell_type": "code",
   "execution_count": 22,
   "id": "53326db1-bf70-4179-a7e5-992d77939576",
   "metadata": {},
   "outputs": [
    {
     "name": "stdout",
     "output_type": "stream",
     "text": [
      "\n",
      "--- EdTech Backend System ---\n",
      "1. Add User\n",
      "2. Add Course\n",
      "3. Enroll Learner\n",
      "4. Drop Learner\n",
      "5. List Enrolled Learners\n",
      "6. Get User Information\n",
      "7. Exit\n"
     ]
    },
    {
     "name": "stdin",
     "output_type": "stream",
     "text": [
      "Enter your choice:  6\n",
      "Enter user ID:  L001\n"
     ]
    },
    {
     "name": "stdout",
     "output_type": "stream",
     "text": [
      "User not found.\n",
      "\n",
      "--- EdTech Backend System ---\n",
      "1. Add User\n",
      "2. Add Course\n",
      "3. Enroll Learner\n",
      "4. Drop Learner\n",
      "5. List Enrolled Learners\n",
      "6. Get User Information\n",
      "7. Exit\n"
     ]
    },
    {
     "name": "stdin",
     "output_type": "stream",
     "text": [
      "Enter your choice:  1\n",
      "Enter user type (learner/instructor):  learner\n",
      "Enter user ID:  L001\n",
      "Enter name:  Ramesh\n",
      "Enter email:  ramesh@realmail.com\n",
      "Enter password:  psw1\n"
     ]
    },
    {
     "name": "stdout",
     "output_type": "stream",
     "text": [
      "Learner Ramesh added.\n",
      "\n",
      "--- EdTech Backend System ---\n",
      "1. Add User\n",
      "2. Add Course\n",
      "3. Enroll Learner\n",
      "4. Drop Learner\n",
      "5. List Enrolled Learners\n",
      "6. Get User Information\n",
      "7. Exit\n"
     ]
    },
    {
     "name": "stdin",
     "output_type": "stream",
     "text": [
      "Enter your choice:  2\n",
      "Enter course ID:  C001\n",
      "Enter course title:  Python Programming\n",
      "Enter instructor ID:  F001\n"
     ]
    },
    {
     "name": "stdout",
     "output_type": "stream",
     "text": [
      "Instructor not found.\n",
      "\n",
      "--- EdTech Backend System ---\n",
      "1. Add User\n",
      "2. Add Course\n",
      "3. Enroll Learner\n",
      "4. Drop Learner\n",
      "5. List Enrolled Learners\n",
      "6. Get User Information\n",
      "7. Exit\n"
     ]
    },
    {
     "name": "stdin",
     "output_type": "stream",
     "text": [
      "Enter your choice:  1\n",
      "Enter user type (learner/instructor):  instructor\n",
      "Enter user ID:  F001\n",
      "Enter name:  Dr. Soyam\n",
      "Enter email:  soyam@realmail.com\n",
      "Enter password:  psww1\n"
     ]
    },
    {
     "name": "stdout",
     "output_type": "stream",
     "text": [
      "Instructor Dr. Soyam added.\n",
      "\n",
      "--- EdTech Backend System ---\n",
      "1. Add User\n",
      "2. Add Course\n",
      "3. Enroll Learner\n",
      "4. Drop Learner\n",
      "5. List Enrolled Learners\n",
      "6. Get User Information\n",
      "7. Exit\n"
     ]
    },
    {
     "name": "stdin",
     "output_type": "stream",
     "text": [
      "Enter your choice:  2\n",
      "Enter course ID:  C001\n",
      "Enter course title:  Python programming\n",
      "Enter instructor ID:  F001\n"
     ]
    },
    {
     "name": "stdout",
     "output_type": "stream",
     "text": [
      "Course Python programming added.\n",
      "\n",
      "--- EdTech Backend System ---\n",
      "1. Add User\n",
      "2. Add Course\n",
      "3. Enroll Learner\n",
      "4. Drop Learner\n",
      "5. List Enrolled Learners\n",
      "6. Get User Information\n",
      "7. Exit\n"
     ]
    },
    {
     "name": "stdin",
     "output_type": "stream",
     "text": [
      "Enter your choice:  3\n",
      "Enter learner ID:  L001\n",
      "Enter course ID:  C001\n"
     ]
    },
    {
     "name": "stdout",
     "output_type": "stream",
     "text": [
      "Ramesh enrolled in Python programming\n",
      "\n",
      "--- EdTech Backend System ---\n",
      "1. Add User\n",
      "2. Add Course\n",
      "3. Enroll Learner\n",
      "4. Drop Learner\n",
      "5. List Enrolled Learners\n",
      "6. Get User Information\n",
      "7. Exit\n"
     ]
    },
    {
     "name": "stdin",
     "output_type": "stream",
     "text": [
      "Enter your choice:  5\n",
      "Enter course ID:  C001\n"
     ]
    },
    {
     "name": "stdout",
     "output_type": "stream",
     "text": [
      "Enrolled Learners:  ['Ramesh']\n",
      "\n",
      "--- EdTech Backend System ---\n",
      "1. Add User\n",
      "2. Add Course\n",
      "3. Enroll Learner\n",
      "4. Drop Learner\n",
      "5. List Enrolled Learners\n",
      "6. Get User Information\n",
      "7. Exit\n"
     ]
    },
    {
     "name": "stdin",
     "output_type": "stream",
     "text": [
      "Enter your choice:  7\n"
     ]
    }
   ],
   "source": [
    "# Driver Code\n",
    "\n",
    "if __name__ == \"__main__\":\n",
    "    sltech_backend = SLTechBackend()\n",
    "    sltech_backend.manage_user_input()"
   ]
  }
 ],
 "metadata": {
  "kernelspec": {
   "display_name": "Python 3 (ipykernel)",
   "language": "python",
   "name": "python3"
  },
  "language_info": {
   "codemirror_mode": {
    "name": "ipython",
    "version": 3
   },
   "file_extension": ".py",
   "mimetype": "text/x-python",
   "name": "python",
   "nbconvert_exporter": "python",
   "pygments_lexer": "ipython3",
   "version": "3.12.4"
  }
 },
 "nbformat": 4,
 "nbformat_minor": 5
}
